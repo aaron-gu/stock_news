{
 "cells": [
  {
   "cell_type": "code",
   "execution_count": null,
   "metadata": {
    "collapsed": true
   },
   "outputs": [],
   "source": [
    "import urllib.request\n",
    "from bs4 import BeautifulSoup\n",
    "import time\n",
    "from IPython.display import clear_output\n",
    "import tkinter\n",
    "from tkinter import messagebox"
   ]
  },
  {
   "cell_type": "code",
   "execution_count": null,
   "metadata": {
    "collapsed": true
   },
   "outputs": [],
   "source": [
    "companies = ['Facebook','Alibaba']"
   ]
  },
  {
   "cell_type": "code",
   "execution_count": null,
   "metadata": {
    "collapsed": true
   },
   "outputs": [],
   "source": [
    "def retrieve_links(companies):\n",
    "    for company in companies:\n",
    "        print(company)\n",
    "        print('\\n')\n",
    "        \n",
    "        quote_page = \"https://news.google.com/news/search/section/q/$REPLACE/$REPLACE?hl=en&gl=US&ned=us\"\n",
    "        quote_page = quote_page.replace(\"$REPLACE\", company)\n",
    "        \n",
    "        page = urllib.request.urlopen(quote_page)\n",
    "        soup = BeautifulSoup(page, \"html.parser\")\n",
    "\n",
    "        \n",
    "        arias = soup.find_all('a')\n",
    "        links = []\n",
    "        titles = []\n",
    "        \n",
    "        #look for aria-level=\"2\"\n",
    "        for aria in arias:\n",
    "            if aria.get('aria-level')==\"2\":\n",
    "                if aria.get('href')[0:1]==\"h\": #if it is a https link\n",
    "                    links.append(aria.get('href'))\n",
    "                    titles.append(aria.string)\n",
    "\n",
    "        links = list(dict.fromkeys(links))\n",
    "        for i in range(0, 3):\n",
    "            print(titles[i])\n",
    "            print(links[i])\n",
    "            print('\\n')\n",
    "        print('\\n')"
   ]
  },
  {
   "cell_type": "code",
   "execution_count": null,
   "metadata": {},
   "outputs": [],
   "source": [
    "#prints news every 10 minutes for one hour\n",
    "for i in range(0, 6):\n",
    "    root = tkinter.Tk()\n",
    "    root.withdraw()\n",
    "    messagebox.showinfo(\"Alert\", \"You have new news!\")\n",
    "    retrieve_links(companies)\n",
    "    time.sleep(10)\n",
    "    clear_output()"
   ]
  },
  {
   "cell_type": "code",
   "execution_count": null,
   "metadata": {
    "collapsed": true
   },
   "outputs": [],
   "source": [
    "#just viewing the page's elements\n",
    "alibaba_page = \"https://news.google.com/news/search/section/q/alibaba/alibaba?hl=en&gl=US&ned=us\"\n",
    "page = urllib.request.urlopen(alibaba_page)\n",
    "soup = BeautifulSoup(page, \"html.parser\")\n",
    "#print(soup.prettify())"
   ]
  },
  {
   "cell_type": "code",
   "execution_count": null,
   "metadata": {
    "collapsed": true
   },
   "outputs": [],
   "source": []
  }
 ],
 "metadata": {
  "kernelspec": {
   "display_name": "Python 3",
   "language": "python",
   "name": "python3"
  },
  "language_info": {
   "codemirror_mode": {
    "name": "ipython",
    "version": 3
   },
   "file_extension": ".py",
   "mimetype": "text/x-python",
   "name": "python",
   "nbconvert_exporter": "python",
   "pygments_lexer": "ipython3",
   "version": "3.6.3"
  }
 },
 "nbformat": 4,
 "nbformat_minor": 2
}
