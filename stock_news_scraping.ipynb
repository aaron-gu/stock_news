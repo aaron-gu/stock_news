{
 "cells": [
  {
   "cell_type": "code",
   "execution_count": 36,
   "metadata": {},
   "outputs": [
    {
     "name": "stdout",
     "output_type": "stream",
     "text": [
      "https://www.cnbc.com/2018/02/12/concerns-over-alibaba-led-digital-free-trade-zone-in-malaysia.html\n",
      "https://www.malaysiakini.com/news/412130\n",
      "https://www.fool.com/investing/2018/02/13/the-5-most-important-figures-from-alibabas-q3-repo.aspx\n",
      "https://www.retaildive.com/news/alibaba-throws-13b-into-brick-and-mortar-strategy/516937/\n",
      "https://www.theverge.com/2018/2/12/17003332/alibaba-disney-animation-cartoons-movies-youku\n",
      "https://techcrunch.com/2018/02/12/alibaba-signs-deal-with-disney-to-stream-its-animated-shows-in-china/\n",
      "http://variety.com/2018/digital/asia/disney-cartoons-in-china-on-alibaba-youku-platform-1202694948/\n",
      "https://www.fool.com/investing/2018/02/12/3-things-alibaba-management-wants-you-to-know.aspx\n"
     ]
    }
   ],
   "source": [
    "import urllib.request\n",
    "from bs4 import BeautifulSoup\n",
    "companies = ['facebook','alibaba']\n",
    "\n",
    "for company in companies:\n",
    "    quote_page = quote_page.replace(\"$REPLACE\", company)\n",
    "    page = urllib.request.urlopen(quote_page)\n",
    "    soup = BeautifulSoup(page, \"html.parser\")\n",
    "\n",
    "    #look for aria-level=\"2\"\n",
    "    arias = soup.find_all('a')\n",
    "    links = []\n",
    "    for aria in arias:\n",
    "        if aria.get('href')[0:1]==\"h\":\n",
    "            links.append(aria.get('href'))\n",
    "\n",
    "    links = list(dict.fromkeys(links))\n",
    "    for link in links[22:30]:\n",
    "        print(link)"
   ]
  },
  {
   "cell_type": "code",
   "execution_count": null,
   "metadata": {
    "collapsed": true
   },
   "outputs": [],
   "source": []
  }
 ],
 "metadata": {
  "kernelspec": {
   "display_name": "Python 3",
   "language": "python",
   "name": "python3"
  },
  "language_info": {
   "codemirror_mode": {
    "name": "ipython",
    "version": 3
   },
   "file_extension": ".py",
   "mimetype": "text/x-python",
   "name": "python",
   "nbconvert_exporter": "python",
   "pygments_lexer": "ipython3",
   "version": "3.6.3"
  }
 },
 "nbformat": 4,
 "nbformat_minor": 2
}
