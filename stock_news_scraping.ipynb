{
 "cells": [
  {
   "cell_type": "code",
   "execution_count": 40,
   "metadata": {
    "collapsed": true
   },
   "outputs": [
    {
     "name": "stdout",
     "output_type": "stream",
     "text": [
      "facebook\n",
      "https://www.theverge.com/2018/2/13/17009114/facebook-campbell-brown-code-media-news-publishers\n",
      "https://www.recode.net/2018/2/12/17005058/facebook-help-publishers-news-feed-algorithm-campbell-brown-adam-mosseri-code-media\n",
      "https://www.fastcompany.com/40530310/apple-and-facebook-work-out-news-subscription-deal\n",
      "https://mashable.com/2018/02/12/facebook-slogan-good-for-business-leave-code-media/\n",
      "https://techcrunch.com/2018/02/13/facebook-pushes-for-more-personal-updates-with-launch-of-new-lists-feature/\n",
      "https://www.engadget.com/2018/02/13/facebooks-lists-encourage-personal-oversharing/\n",
      "https://thenextweb.com/facebook/2018/02/13/facebooks-colorful-new-feature-makes-public-lists-thing/\n",
      "http://fortune.com/2018/02/13/facebook-fake-news-wired-article/\n",
      "alibaba\n",
      "https://www.cnbc.com/2018/02/12/concerns-over-alibaba-led-digital-free-trade-zone-in-malaysia.html\n",
      "https://www.malaysiakini.com/news/412130\n",
      "https://www.fool.com/investing/2018/02/13/the-5-most-important-figures-from-alibabas-q3-repo.aspx\n",
      "https://www.retaildive.com/news/alibaba-throws-13b-into-brick-and-mortar-strategy/516937/\n",
      "http://www.alizila.com/one-inventory/\n",
      "https://www.theverge.com/2018/2/12/17003332/alibaba-disney-animation-cartoons-movies-youku\n",
      "http://deadline.com/2018/02/disney-strikes-major-chinese-streaming-deal-with-alibabas-youku-1202286161/\n",
      "https://techcrunch.com/2018/02/12/alibaba-signs-deal-with-disney-to-stream-its-animated-shows-in-china/\n"
     ]
    }
   ],
   "source": [
    "import urllib.request\n",
    "from bs4 import BeautifulSoup\n",
    "\n",
    "companies = ['facebook','alibaba']\n",
    "for company in companies:\n",
    "    quote_page = \"https://news.google.com/news/search/section/q/$REPLACE/$REPLACE?hl=en&gl=US&ned=us\"\n",
    "    quote_page = quote_page.replace(\"$REPLACE\", company)\n",
    "    print(company)\n",
    "    page = urllib.request.urlopen(quote_page)\n",
    "    soup = BeautifulSoup(page, \"html.parser\")\n",
    "\n",
    "    #look for aria-level=\"2\"\n",
    "    arias = soup.find_all('a')\n",
    "    links = []\n",
    "    for aria in arias:\n",
    "        if aria.get('href')[0:1]==\"h\":\n",
    "            links.append(aria.get('href'))\n",
    "\n",
    "    links = list(dict.fromkeys(links))\n",
    "    for link in links[22:30]:\n",
    "        print(link)"
   ]
  }
 ],
 "metadata": {
  "kernelspec": {
   "display_name": "Python 3",
   "language": "python",
   "name": "python3"
  },
  "language_info": {
   "codemirror_mode": {
    "name": "ipython",
    "version": 3
   },
   "file_extension": ".py",
   "mimetype": "text/x-python",
   "name": "python",
   "nbconvert_exporter": "python",
   "pygments_lexer": "ipython3",
   "version": "3.6.3"
  }
 },
 "nbformat": 4,
 "nbformat_minor": 2
}
