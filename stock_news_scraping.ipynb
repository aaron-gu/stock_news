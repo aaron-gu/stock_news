{
 "cells": [
  {
   "cell_type": "markdown",
   "metadata": {},
   "source": [
    "# Scraping stock news and analyzing sentiment\n",
    "For the moderately interested day trader and programmer"
   ]
  },
  {
   "cell_type": "code",
   "execution_count": 62,
   "metadata": {
    "collapsed": true
   },
   "outputs": [],
   "source": [
    "import urllib.request\n",
    "from bs4 import BeautifulSoup #need to pip install bs4\n",
    "import time\n",
    "from IPython.display import clear_output\n",
    "# import tkinter\n",
    "# from tkinter import messagebox"
   ]
  },
  {
   "cell_type": "code",
   "execution_count": 63,
   "metadata": {
    "collapsed": true
   },
   "outputs": [],
   "source": [
    "companies = ['Facebook','Alibaba']"
   ]
  },
  {
   "cell_type": "markdown",
   "metadata": {},
   "source": [
    "These are the companies I currently have a few stocks in!"
   ]
  },
  {
   "cell_type": "markdown",
   "metadata": {},
   "source": [
    "## Getting headlines and links from Google News\n",
    "The news page URL is consistent over different search terms, so I can use the `replace` function to construct a url for each company I am interested in. The Google News page also has a consistent format for every search, which tags each link/headline with the identifier \"aria-level=2\"."
   ]
  },
  {
   "cell_type": "code",
   "execution_count": 65,
   "metadata": {
    "collapsed": true
   },
   "outputs": [],
   "source": [
    "def retrieve_links(company):\n",
    "    \"\"\"returns the company's news links and headlines\"\"\"\n",
    "    headlines = []\n",
    "    links = []\n",
    "\n",
    "    quote_page = \"https://news.google.com/news/search/section/q/$REPLACE/$REPLACE?hl=en&gl=US&ned=us\"\n",
    "    quote_page = quote_page.replace(\"$REPLACE\", company)\n",
    "        \n",
    "    page = urllib.request.urlopen(quote_page)\n",
    "    soup = BeautifulSoup(page, \"html.parser\") \n",
    "        \n",
    "    arias = soup.find_all('a')\n",
    "    #look for aria-level=\"2\"\n",
    "    for aria in arias:\n",
    "        if aria.get('aria-level')==\"2\":\n",
    "            if aria.get('href')[0:1]==\"h\": #if it is a https link\n",
    "                headlines.append(aria.string)\n",
    "                links.append(aria.get('href'))\n",
    "\n",
    "    links = list(dict.fromkeys(links)) #orders the links\n",
    "\n",
    "    return headlines, links"
   ]
  },
  {
   "cell_type": "markdown",
   "metadata": {},
   "source": [
    "## Printing the news to Jupyter Notebook"
   ]
  },
  {
   "cell_type": "code",
   "execution_count": null,
   "metadata": {
    "collapsed": true
   },
   "outputs": [],
   "source": [
    "for i in range(0, 6):\n",
    "    \"\"\"prints news every 10 minutes for one hour\"\"\"\n",
    "    #root = tkinter.Tk()\n",
    "    #root.withdraw()\n",
    "    #messagebox.showinfo(\"Alert\", \"You have new news!\")\n",
    "    for company in companies:\n",
    "        company_headlines, company_links = retrieve_links(company)\n",
    "        print(company, \"\\n\")\n",
    "        for i in range(0, 3):\n",
    "            print(company_headlines[i])\n",
    "            print(company_links[i])\n",
    "            print('\\n')\n",
    "        print('\\n')\n",
    "    time.sleep(10000)\n",
    "    clear_output()"
   ]
  },
  {
   "cell_type": "markdown",
   "metadata": {},
   "source": [
    "My news automatically refreshes every 10 minutes and prints out in this notebook! (I would like to send a notification to my computer, but Python's messagebox is a little awkward and doesn't close properly when I stop the program. It's currently commented out.)"
   ]
  },
  {
   "cell_type": "markdown",
   "metadata": {},
   "source": [
    "## Analyzing the news sentiment around the company"
   ]
  },
  {
   "cell_type": "code",
   "execution_count": 66,
   "metadata": {
    "collapsed": true
   },
   "outputs": [],
   "source": [
    "import nltk #need pip install -U nltk\n",
    "from nltk import tokenize\n",
    "from nltk.sentiment.vader import SentimentIntensityAnalyzer\n",
    "import re"
   ]
  },
  {
   "cell_type": "code",
   "execution_count": 67,
   "metadata": {
    "collapsed": true
   },
   "outputs": [],
   "source": [
    "headlines, links = retrieve_links('Alibaba')\n",
    "\n",
    "#It's good practice to separate the retrieval from the analysis, \n",
    "#because I'm frequently going to be testing the analysis and don't\n",
    "#want to send a new request to the web server every time I change something."
   ]
  },
  {
   "cell_type": "markdown",
   "metadata": {},
   "source": [
    "### Getting the text from each news article link\n",
    "I assumed all of the text would be in the < p > tags without any attributes, so I filtered for those. This generates a pretty good rendering of the article text."
   ]
  },
  {
   "cell_type": "code",
   "execution_count": 68,
   "metadata": {
    "collapsed": true
   },
   "outputs": [],
   "source": [
    "page = urllib.request.urlopen(links[1])\n",
    "soup = BeautifulSoup(page, \"html.parser\")\n",
    "html_text = soup.find_all('p')\n",
    "text = \"\"\n",
    "for tag in html_text:\n",
    "    if tag.attrs == {}:\n",
    "        text += tag.text"
   ]
  },
  {
   "cell_type": "markdown",
   "metadata": {},
   "source": [
    "Now it's time for sentiment analysis using the Vader module in NLTK. I referenced this site to build my code: http://www.nltk.org/howto/sentiment.html"
   ]
  },
  {
   "cell_type": "code",
   "execution_count": 69,
   "metadata": {},
   "outputs": [
    {
     "name": "stdout",
     "output_type": "stream",
     "text": [
      "Now, Beijing is going all out to change that.\n",
      "compound: 0.0, neg: 0.0, neu: 1.0, pos: 0.0, \n",
      "Authorities are musing fresh policies to engineer a tech homecoming.\n",
      "compound: 0.3182, neg: 0.0, neu: 0.777, pos: 0.223, \n",
      "The move is as much about sharing gains from their rapid growth as increasing control over its tech sector, analysts said .Using the ongoing national parliamentary meetings as the backdrop, Beijing has been vocal about its plan.\n",
      "compound: 0.7783, neg: 0.0, neu: 0.813, pos: 0.187, \n",
      "In his government work report delivered on March 5, Chinese Premier Li Keqiang said the country will “support leading innovative companies in going public.” Just a few days later, the Shanghai Stock Exchange issued a website notice, saying that authorities have visited promising tech startups one by one and pitched them options for China-based listings.\n",
      "compound: 0.6808, neg: 0.0, neu: 0.901, pos: 0.099, \n",
      "And the China Securities Regulatory Commission(CSRC) has formed a special committee to facilitate fast-tracked domestic IPOs for unicorn startups, which are private companies with a valuation of at least $1 billion.\n",
      "compound: 0.5994, neg: 0.0, neu: 0.846, pos: 0.154, \n",
      "According to consultancy CB Insights, China was home to 55 such startups as of last year, second only to the 106 from the U.S.\n",
      "More On Forbes: Imitator To Innovator: How China Could Soon Be The World's Tech LeaderMultiple changes are being considered in the effort to boost homegrown IPOs.\n",
      "compound: 0.4019, neg: 0.0, neu: 0.948, pos: 0.052, \n",
      "Chief among them is revising Chinese law to allow the dual-class share structure, a complex arrangement that gives more voting rights to company executives and is widely used by tech firms including Facebook, Google-parent Alphabet and China’s Alibaba, according to Oliver Rui, a professor of finance at the China Europe International Business School in Shanghai.\n",
      "compound: 0.4767, neg: 0.0, neu: 0.926, pos: 0.074, \n",
      "Authorities are also mulling creating a new class of security called China Depositary Receipts (CDR), which is similar to American Depositary Receipts(ADR) in that it packages overseas equities to sell back home.\n",
      "compound: 0.5574, neg: 0.0, neu: 0.863, pos: 0.137, \n",
      "This will allow U.S.-listed Chinese tech companies to trade their shares in mainland bourses, providing local investors a way to profit from their growth.Over the past year, shares of New York-listed e-commerce giant Alibaba have climbed almost 90%, giving the company a market capitalization of $495 billion–a gain that China has largely missed out on due to stringent capital control measures that make it difficult for locals to invest in overseas securities.“China is much more determined this time to have its tech companies back,” Rui said.\n",
      "compound: 0.8937, neg: 0.048, neu: 0.772, pos: 0.179, \n",
      "“They all make money from home markets but deliver dividends to overseas investors.\n",
      "compound: 0.0, neg: 0.0, neu: 1.0, pos: 0.0, \n",
      "This is just unreasonable.”Several tech firms have declared support for Beijing’s plan.\n",
      "compound: 0.4019, neg: 0.0, neu: 0.803, pos: 0.197, \n",
      "Baidu, Tencent, gaming company NetEase as well as New York-listed local service provider 58.com are among a host of firms expressing interest in a secondary listing at home.\n",
      "compound: 0.6249, neg: 0.0, neu: 0.825, pos: 0.175, \n",
      "Alibaba is also reportedly evaluating ways to have its shares traded in the mainland, according to the Wall Street Journal.\n",
      "compound: 0.296, neg: 0.0, neu: 0.896, pos: 0.104, \n",
      "A company spokesperson said in an e-mailed statement: “Since our IPO in the U.S., we have stated that if regulations allow, we would consider a listing in China.”And the companies will reap good rewards from doing so:  Expect through-the-roof valuations in China as local investors have long searched for alternatives to the staid state-owned enterprises that dominate mainland bourses.\n",
      "compound: 0.7506, neg: 0.024, neu: 0.849, pos: 0.127, \n",
      "Online security firm 360 Security has seen its market capitalization soar to $52 billion since it re-listed in Shanghai in late February–up from $9.3 billion when it exited the New York Stock Exchange in 2016.\n",
      "compound: 0.5859, neg: 0.0, neu: 0.873, pos: 0.127, \n",
      "According to UBS, Chinese investors will divert as much as $59 billion to the tech stars should the country’s four leading tech firms–namely Alibaba, Baidu, Tencent and JD.com–issue just 5% of their shares as CDRs.More On Forbes: Why 2018 Will Be A Renaissance Year For Asia Tech IPOs, Undercutting New YorkBut beneath Beijing’s olive branch lies another motive.\n",
      "compound: -0.1531, neg: 0.047, neu: 0.917, pos: 0.037, \n",
      "By having its tech companies home and keeping closer tabs on their fundraising channels, authorities are seeking to exert greater control over boardroom discussions, explains Christopher Balding, a professor of business and economics at Peking University’s HSBC Business School in Shenzhen.The goal is sheltering information from outsiders, Balding says.\n",
      "compound: 0.3612, neg: 0.0, neu: 0.949, pos: 0.051, \n",
      "With different disclosure requirements in China, the tech companies don’t always have to subject their finances to as much scrutiny.\n",
      "compound: 0.0, neg: 0.0, neu: 1.0, pos: 0.0, \n",
      "Alibaba, for example, is still under investigation by the Securities and Exchange Commission for its accounting practices, an issue that first emerged in 2016.\n",
      "compound: 0.296, neg: 0.0, neu: 0.913, pos: 0.087, \n",
      "The company has said that it is “voluntarily cooperating with the SEC in their inquiry.”What’s more, many of China’s emerging tech stars operate in what Beijing views as critical industries like robotics, artificial intelligence and biotechnology.\n",
      "compound: 0.5106, neg: 0.056, neu: 0.807, pos: 0.137, \n",
      "Listing them at home very likely means authorities can tell the companies not to disclose potentially sensitive information like government-related contracts, according to Balding.“One of the issues is the sheltering of information,” Balding points out.\n",
      "compound: 0.3612, neg: 0.0, neu: 0.932, pos: 0.068, \n",
      "“A lot of companies listed in other jurisdictions are required to provide higher levels of transparent information.”And Beijing has made it clear that the Party wishes to come ahead of anything else.\n",
      "compound: 0.7096, neg: 0.0, neu: 0.808, pos: 0.192, \n",
      "Earlier this week, it unveiled sweeping regulatory changes that put Party leadership at the core, while repealing presidential term limits to allow President Xi Jinping to rule for life.\n",
      "compound: 0.5574, neg: 0.0, neu: 0.854, pos: 0.146, \n",
      "Last year, authorities also pushed for “special management shares” in the country’s biggest tech firms in order to exert control over corporate decisions.“China wants to more have more control over private businesses and keep benefits of those to China itself,” said Andrew Polk, co-founder of consultancy firm Trivium China.\n",
      "compound: 0.3182, neg: 0.026, neu: 0.923, pos: 0.051, \n",
      "“It looks really bad if it is seen as forcing the tech companies back, so instead it is enticing them back.”More On Forbes: China's Constitutional Amendments Are All About The Party, Not The PresidentFollow me on Twitter @yueyueyuewang\n",
      "compound: -0.2716, neg: 0.089, neu: 0.847, pos: 0.064, \n",
      "0.29000000000000004\n",
      "2.6680000000000006\n",
      "The sentiment score for this article is:  9.20\n"
     ]
    }
   ],
   "source": [
    "sentences = tokenize.sent_tokenize(text)\n",
    "sid = SentimentIntensityAnalyzer()\n",
    "negativity = 0\n",
    "positivity = 0\n",
    "for sentence in sentences:\n",
    "    print(sentence)\n",
    "    ss = sid.polarity_scores(sentence)\n",
    "    for k in sorted(ss): # the dictionary categories are compound, neg, neu, and pos\n",
    "        print('{0}: {1}, '.format(k, ss[k]), end='')\n",
    "    negativity += ss['neg']\n",
    "    positivity += ss['pos']\n",
    "    print()\n",
    "print(negativity)\n",
    "print(positivity)\n",
    "print(\"The sentiment score for this article is: \", '%.2f'%(positivity/negativity))"
   ]
  },
  {
   "cell_type": "markdown",
   "metadata": {},
   "source": [
    "Cool! Now I have the sentiment score for every article, and I will be able to tell if people are really liking the company today (sentiment > 1.0) or hating it today (sentiment < 1.0)."
   ]
  },
  {
   "cell_type": "code",
   "execution_count": null,
   "metadata": {
    "collapsed": true
   },
   "outputs": [],
   "source": []
  }
 ],
 "metadata": {
  "kernelspec": {
   "display_name": "Python 3",
   "language": "python",
   "name": "python3"
  },
  "language_info": {
   "codemirror_mode": {
    "name": "ipython",
    "version": 3
   },
   "file_extension": ".py",
   "mimetype": "text/x-python",
   "name": "python",
   "nbconvert_exporter": "python",
   "pygments_lexer": "ipython3",
   "version": "3.6.3"
  }
 },
 "nbformat": 4,
 "nbformat_minor": 2
}
